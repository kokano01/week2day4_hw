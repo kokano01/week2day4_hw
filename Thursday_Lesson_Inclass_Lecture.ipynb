{
 "cells": [
  {
   "cell_type": "markdown",
   "metadata": {},
   "source": [
    "# Object-Oriented-Programming (OOP)"
   ]
  },
  {
   "cell_type": "markdown",
   "metadata": {},
   "source": [
    "## Tasks Today:\n",
    "\n",
    "   \n",
    "\n",
    "1) <b>Creating a Class (Initializing/Declaring)</b> <br>\n",
    "2) <b>Using a Class (Instantiating)</b> <br>\n",
    " &nbsp;&nbsp;&nbsp;&nbsp; a) Creating One Instance <br>\n",
    " &nbsp;&nbsp;&nbsp;&nbsp; b) Creating Multiple Instances <br>\n",
    " &nbsp;&nbsp;&nbsp;&nbsp; c) In-Class Exercise #1 - Create a Class 'Car' and instantiate three different makes of cars <br>\n",
    "3) <b>The \\__init\\__() Method</b> <br>\n",
    " &nbsp;&nbsp;&nbsp;&nbsp; a) The 'self' Attribute <br>\n",
    "4) <b>Class Attributes</b> <br>\n",
    " &nbsp;&nbsp;&nbsp;&nbsp; a) Initializing Attributes <br>\n",
    " &nbsp;&nbsp;&nbsp;&nbsp; b) Setting an Attribute Outside of the \\__init\\__() Method <br>\n",
    " &nbsp;&nbsp;&nbsp;&nbsp; c) Setting Defaults for Attributes <br>\n",
    " &nbsp;&nbsp;&nbsp;&nbsp; d) Accessing Class Attributes <br>\n",
    " &nbsp;&nbsp;&nbsp;&nbsp; e) Changing Class Attributes <br>\n",
    " &nbsp;&nbsp;&nbsp;&nbsp; f) In-Class Exercise #2 - Add a color and wheels attribute to your 'Car' class <br>\n",
    "5) <b>Class Methods</b> <br>\n",
    " &nbsp;&nbsp;&nbsp;&nbsp; a) Creating <br>\n",
    " &nbsp;&nbsp;&nbsp;&nbsp; b) Calling <br>\n",
    " &nbsp;&nbsp;&nbsp;&nbsp; c) Modifying an Attribute's Value Through a Method <br>\n",
    " &nbsp;&nbsp;&nbsp;&nbsp; d) Incrementing an Attribute's Value Through a Method <br>\n",
    " &nbsp;&nbsp;&nbsp;&nbsp; e) In-Class Exercise #3 - Add a method that prints the cars color and wheel number, then call them <br>\n",
    "6) <b>Inheritance</b> <br>\n",
    " &nbsp;&nbsp;&nbsp;&nbsp; a) Syntax for Inheriting from a Parent Class <br>\n",
    " &nbsp;&nbsp;&nbsp;&nbsp; b) The \\__init\\__() Method for a Child Class (super()) <br>\n",
    " &nbsp;&nbsp;&nbsp;&nbsp; c) Defining Attributes and Methods for the Child Class <br>\n",
    " &nbsp;&nbsp;&nbsp;&nbsp; d) Method Overriding <br>\n",
    " &nbsp;&nbsp;&nbsp;&nbsp; e) In-Class Exercise #4 - Create a class 'Ford' that inherits from 'Car' class and initialize it as a Blue Ford Explorer with 4 wheels using the super() method <br>\n",
    "7) <b>Classes as Attributes</b> <br>\n",
    "8) <b>Exercises</b> <br>\n",
    " &nbsp;&nbsp;&nbsp;&nbsp; a) Exercise #1 - Turn the shopping cart program from yesterday into an object-oriented program <br>"
   ]
  },
  {
   "cell_type": "code",
   "execution_count": null,
   "metadata": {},
   "outputs": [],
   "source": []
  },
  {
   "cell_type": "code",
   "execution_count": null,
   "metadata": {},
   "outputs": [],
   "source": [
    "# Circumference of a cirle\n"
   ]
  },
  {
   "cell_type": "markdown",
   "metadata": {},
   "source": [
    "## Creating a Class (Initializing/Declaring)\n",
    "<p>When creating a class, function, or even a variable you are initializing that object. Initializing and Declaring occur at the same time in Python, whereas in lower level languages you have to declare an object before initializing it. This is the first step in the process of using a class.</p>"
   ]
  },
  {
   "cell_type": "code",
   "execution_count": 1,
   "metadata": {},
   "outputs": [],
   "source": [
    "class Car():\n",
    "    wheels = 4\n",
    "    color = 'blue'"
   ]
  },
  {
   "cell_type": "markdown",
   "metadata": {},
   "source": [
    "## Using a Class (Instantiating)\n",
    "<p>The process of creating a class is called <i>Instantiating</i>. Each time you create a variable of that type of class, it is referred to as an <i>Instance</i> of that class. This is the second step in the process of using a class.</p>"
   ]
  },
  {
   "cell_type": "markdown",
   "metadata": {},
   "source": [
    "##### Creating One Instance"
   ]
  },
  {
   "cell_type": "code",
   "execution_count": 5,
   "metadata": {},
   "outputs": [
    {
     "data": {
      "text/plain": [
       "4"
      ]
     },
     "execution_count": 5,
     "metadata": {},
     "output_type": "execute_result"
    }
   ],
   "source": [
    "ford = Car()\n",
    "ford.wheels"
   ]
  },
  {
   "cell_type": "markdown",
   "metadata": {},
   "source": [
    "##### Creating Multiple Instances"
   ]
  },
  {
   "cell_type": "code",
   "execution_count": 11,
   "metadata": {},
   "outputs": [
    {
     "name": "stdout",
     "output_type": "stream",
     "text": [
      "<class '__main__.Car'>\n"
     ]
    },
    {
     "data": {
      "text/plain": [
       "True"
      ]
     },
     "execution_count": 11,
     "metadata": {},
     "output_type": "execute_result"
    }
   ],
   "source": [
    "chevy = Car()\n",
    "honda = Car()\n",
    "porsche = Car()\n",
    "\n",
    "print(type(chevy))\n",
    "\n",
    "chevy.wheels is  honda.wheels"
   ]
  },
  {
   "cell_type": "markdown",
   "metadata": {},
   "source": [
    "##### In-Class Exercise #1 - Create a Class 'Car' and Instantiate three different makes of cars"
   ]
  },
  {
   "cell_type": "code",
   "execution_count": 15,
   "metadata": {},
   "outputs": [
    {
     "name": "stdout",
     "output_type": "stream",
     "text": [
      "4\n",
      "False\n"
     ]
    }
   ],
   "source": [
    "# attribute door(int) color(str) wheels(int) sunroof(boolean)\n",
    "\n",
    "class Car():\n",
    "    door = 4\n",
    "    color = 'black'\n",
    "    wheels = 4\n",
    "    sunroof = False\n",
    "    \n",
    "nissan = Car()\n",
    "toyota = Car()\n",
    "scion = Car()\n",
    "\n",
    "print(nissan.door)\n",
    "print(scion.sunroof)"
   ]
  },
  {
   "cell_type": "markdown",
   "metadata": {},
   "source": [
    "## The \\__init\\__() Method <br>\n",
    "<p>This method is used in almost every created class, and called only once upon the creation of the class instance. This method will initialize all variables needed for the object.</p>"
   ]
  },
  {
   "cell_type": "code",
   "execution_count": 27,
   "metadata": {},
   "outputs": [
    {
     "name": "stdout",
     "output_type": "stream",
     "text": [
      "4\n",
      "black\n",
      "True\n",
      "<class '__main__.Car'>\n",
      "2\n",
      "orange\n",
      "True\n",
      "<class '__main__.Car'>\n"
     ]
    }
   ],
   "source": [
    "# if class name is same, it gets overwritten by the most recent\n",
    "class Car():\n",
    "    wheels = 4\n",
    "    \n",
    "    # create the Constructor AKA __init__ method\n",
    "    # (class name, what you want to pass in)\n",
    "    def __init__(self, d, color, window_tint=True,s_t=False):  # DEFAUL ARGUMENT\n",
    "        # what we're naming our attribute : what is inside the ()\n",
    "        self.door = d\n",
    "        self.color = color\n",
    "        self.window_tint = True  # DEFAULT ATTRIBUTE\n",
    "        self.spare_tire = s_t\n",
    "\n",
    "        # (number of doors, color)\n",
    "ford = Car(4, \"black\", True, True)\n",
    "print(ford.door)\n",
    "print(ford.color)\n",
    "print(ford.spare_tire)\n",
    "print(type(ford))\n",
    "\n",
    "\n",
    "nissan = Car(2, \"orange\")\n",
    "print(nissan.door)\n",
    "print(nissan.color)\n",
    "print(nissan.window_tint)\n",
    "print(type(nissan))"
   ]
  },
  {
   "cell_type": "markdown",
   "metadata": {},
   "source": [
    "##### The 'self' Attribute <br>\n",
    "<p>This attribute is required to keep track of specific instance's attributes. Without the self attribute, the program would not know how to reference or keep track of an instance's attributes.</p>"
   ]
  },
  {
   "cell_type": "code",
   "execution_count": null,
   "metadata": {},
   "outputs": [],
   "source": [
    "# see above\n",
    "\n",
    "# if class name is same, it gets overwritten by the most recent\n",
    "class Car():\n",
    "    wheels = 4\n",
    "    \n",
    "    # create the Constructor AKA __init__ method\n",
    "    # (class name, what you want to pass in)\n",
    "    def __init__(self, d, color):   # __init__ = dunder method\n",
    "        # what we're naming our attribute : what is inside the ()\n",
    "        self.door = d\n",
    "        self.color = color\n",
    "        \n",
    "    def append(self, elem)"
   ]
  },
  {
   "cell_type": "markdown",
   "metadata": {},
   "source": [
    "## Class Attributes <br>\n",
    "<p>While variables are inside of a class, they are referred to as attributes and not variables. When someone says 'attribute' you know they're speaking about a class. Attributes can be initialized through the init method, or outside of it.</p>"
   ]
  },
  {
   "cell_type": "markdown",
   "metadata": {},
   "source": [
    "##### Initializing Attributes"
   ]
  },
  {
   "cell_type": "code",
   "execution_count": null,
   "metadata": {},
   "outputs": [],
   "source": [
    "# see above\n",
    "\n",
    "#door attribute is for ford"
   ]
  },
  {
   "cell_type": "markdown",
   "metadata": {},
   "source": [
    "##### Accessing Class Attributes"
   ]
  },
  {
   "cell_type": "code",
   "execution_count": null,
   "metadata": {
    "scrolled": true
   },
   "outputs": [],
   "source": [
    "# See Above\n",
    "\n",
    "the . method at the the bottom"
   ]
  },
  {
   "cell_type": "markdown",
   "metadata": {},
   "source": [
    "##### Setting Defaults for Attributes"
   ]
  },
  {
   "cell_type": "code",
   "execution_count": 32,
   "metadata": {},
   "outputs": [],
   "source": [
    "#see above"
   ]
  },
  {
   "cell_type": "markdown",
   "metadata": {},
   "source": [
    "##### Changing Class Attributes <br>\n",
    "<p>Keep in mind there are global class attributes and then there are attributes only available to each class instance which won't effect other classes.</p>"
   ]
  },
  {
   "cell_type": "code",
   "execution_count": null,
   "metadata": {},
   "outputs": [],
   "source": [
    "nissan.color = 'matte green'\n",
    "print(nissan.color)"
   ]
  },
  {
   "cell_type": "code",
   "execution_count": 33,
   "metadata": {},
   "outputs": [
    {
     "name": "stdout",
     "output_type": "stream",
     "text": [
      "3\n"
     ]
    }
   ],
   "source": [
    "nissan.wheels = 3\n",
    "print(nissan.wheels)"
   ]
  },
  {
   "cell_type": "markdown",
   "metadata": {},
   "source": [
    "##### In-Class Exercise #2 - Add a doors and seats attribute to your 'Car' class then print out two different instances with different doors and seats"
   ]
  },
  {
   "cell_type": "code",
   "execution_count": 46,
   "metadata": {},
   "outputs": [
    {
     "name": "stdout",
     "output_type": "stream",
     "text": [
      "4\n",
      "5\n",
      "4\n",
      "===========================\n",
      "2\n",
      "4\n"
     ]
    }
   ],
   "source": [
    "# if class name is same, it gets overwritten by the most recent\n",
    "class Car():\n",
    "\n",
    "    def __init__(self, d, seat,):  # DEFAUL ARGUMENT\n",
    "        # what we're naming our attribute : what is inside the ()\n",
    "        self.door = d\n",
    "        self.seat = seat\n",
    "        self.wheels = 4\n",
    "        \n",
    "hummer = Car(4, 5)\n",
    "print(hummer.door)\n",
    "print(hummer.seat)\n",
    "print(hummer.wheels)\n",
    "\n",
    "print(\"===========================\")\n",
    "\n",
    "hyundai = Car(2, 4)\n",
    "print(hyundai.door)\n",
    "print(hyundai.seat)"
   ]
  },
  {
   "cell_type": "code",
   "execution_count": 42,
   "metadata": {
    "scrolled": true
   },
   "outputs": [
    {
     "data": {
      "text/plain": [
       "mappingproxy({'__module__': '__main__',\n",
       "              '__init__': <function __main__.Car.__init__(self, d, seat, color, window_tint=True, s_t=False)>,\n",
       "              '__dict__': <attribute '__dict__' of 'Car' objects>,\n",
       "              '__weakref__': <attribute '__weakref__' of 'Car' objects>,\n",
       "              '__doc__': None})"
      ]
     },
     "execution_count": 42,
     "metadata": {},
     "output_type": "execute_result"
    }
   ],
   "source": [
    "Car.__dict__"
   ]
  },
  {
   "cell_type": "code",
   "execution_count": 47,
   "metadata": {},
   "outputs": [
    {
     "data": {
      "text/plain": [
       "{'door': 2,\n",
       " 'color': 'matte green',\n",
       " 'window_tint': True,\n",
       " 'spare_tire': False,\n",
       " 'wheels': 3}"
      ]
     },
     "execution_count": 47,
     "metadata": {},
     "output_type": "execute_result"
    }
   ],
   "source": [
    "nissan.__dict__"
   ]
  },
  {
   "cell_type": "code",
   "execution_count": 57,
   "metadata": {},
   "outputs": [
    {
     "name": "stdout",
     "output_type": "stream",
     "text": [
      "door 2\n",
      "color matte green\n",
      "window_tint True\n",
      "spare_tire False\n",
      "wheels 3\n"
     ]
    }
   ],
   "source": [
    "for key in nissan.__dict__:\n",
    "    print(key, nissan.__dict__[key])"
   ]
  },
  {
   "cell_type": "markdown",
   "metadata": {},
   "source": [
    "## Class Methods <br>\n",
    "<p>While inside of a class, functions are referred to as 'methods'. If you hear someone mention methods, they're speaking about classes. Methods are essentially functions, but only callable on the instances of a class.</p>"
   ]
  },
  {
   "cell_type": "markdown",
   "metadata": {},
   "source": [
    "##### IMPORTANT*******************Creating********************"
   ]
  },
  {
   "cell_type": "code",
   "execution_count": 78,
   "metadata": {},
   "outputs": [
    {
     "name": "stdout",
     "output_type": "stream",
     "text": [
      "Koki Okano\n",
      "61800.0\n",
      "Koki Hello how are you\n",
      "koki.hello_how_are_you@codingsummit.org\n"
     ]
    }
   ],
   "source": [
    "class Employee():\n",
    "    def __init__(self, first, last, salary = 60000):\n",
    "        self.first_name = first\n",
    "        self.last_name = last\n",
    "        self.salary = salary\n",
    "        self.email = f'{first.lower()}.{last.lower()}@codingsummit.org'\n",
    "\n",
    "    def full_name(self):\n",
    "        return f'{self.first_name} {self.last_name}'\n",
    "    \n",
    "    def apply_raise(self, raise_amount = 1.03 ):\n",
    "        self.salary = self.salary * raise_amount # shorthand: self.salary *= raise_amount\n",
    "        \n",
    "    def change_last_name(self, last):\n",
    "        self.last_name = last\n",
    "        email_last_name = '_'.join(last.split())  # to replace spaces in name with '_'\n",
    "        self.email = f'{self.first_name.lower()}.{email_last_name.lower()}@codingsummit.org'\n",
    "    \n",
    "    \n",
    "employee1 = Employee('Koki',\"Okano\")\n",
    "print(employee1.full_name())\n",
    "\n",
    "employee1.apply_raise()\n",
    "print(employee1.salary)\n",
    "\n",
    "employee1.change_last_name(\"Hello how are you\")  # spaces cause funky email.\n",
    "print(employee1.full_name())\n",
    "\n",
    "print(employee1.email)"
   ]
  },
  {
   "cell_type": "markdown",
   "metadata": {},
   "source": [
    "##### Calling"
   ]
  },
  {
   "cell_type": "code",
   "execution_count": null,
   "metadata": {},
   "outputs": [],
   "source": [
    "# See Above\n",
    "\n",
    "# employee1 = Employee('Koki',\"Okano\")\n",
    "# print(employee1.full_name())   <<<<<<--------------****"
   ]
  },
  {
   "cell_type": "markdown",
   "metadata": {},
   "source": [
    "##### Modifying an Attribute's Value Through a Method"
   ]
  },
  {
   "cell_type": "code",
   "execution_count": 80,
   "metadata": {},
   "outputs": [
    {
     "name": "stdout",
     "output_type": "stream",
     "text": [
      "66000.0\n",
      "60000\n",
      "67980.0\n",
      "62400.0\n"
     ]
    }
   ],
   "source": [
    "emp1 = Employee(\"Koki\", \"O\")\n",
    "emp2 = Employee(\"Yuma\", \"T\")\n",
    "\n",
    "emp2.apply_raise(1.10)\n",
    "print(emp2.salary)\n",
    "print(emp1.salary)\n",
    "\n",
    "emp2.apply_raise()   # 1.03 increase from before\n",
    "emp1.apply_raise(1.04)  # 4% increase\n",
    "print(emp2.salary)\n",
    "print(emp1.salary)\n"
   ]
  },
  {
   "cell_type": "code",
   "execution_count": 81,
   "metadata": {},
   "outputs": [
    {
     "data": {
      "text/plain": [
       "{'first_name': 'Koki',\n",
       " 'last_name': 'O',\n",
       " 'salary': 62400.0,\n",
       " 'email': 'koki.o@codingsummit.org'}"
      ]
     },
     "execution_count": 81,
     "metadata": {},
     "output_type": "execute_result"
    }
   ],
   "source": [
    "emp1.__dict__"
   ]
  },
  {
   "cell_type": "markdown",
   "metadata": {},
   "source": [
    "##### Incrementing an Attribute's Value Through a Method"
   ]
  },
  {
   "cell_type": "code",
   "execution_count": null,
   "metadata": {},
   "outputs": [],
   "source": []
  },
  {
   "cell_type": "markdown",
   "metadata": {},
   "source": [
    "##### In-Class Exercise #3 - Add a method that takes in three parameters of year, doors and seats and prints out a formatted print statement with make, model, year, seats, and doors"
   ]
  },
  {
   "cell_type": "code",
   "execution_count": 91,
   "metadata": {},
   "outputs": [
    {
     "name": "stdout",
     "output_type": "stream",
     "text": [
      "This car is from 1999 and is a Suzuki Grand Vitara and has 4 doors and 6 seats.\n",
      "{'make': 'Suzuki', 'model': 'Grand Vitara', 'year': '1999', 'door': 4, 'seats': 6}\n",
      "{'make': 'Tesla', 'model': 'Cyber Truck'}\n"
     ]
    }
   ],
   "source": [
    "# Create class with 2 paramters inside of the __init__ which are make and model\n",
    "class Car():\n",
    "    def __init__(self, make, model):\n",
    "        self.make = make\n",
    "        self.model = model\n",
    "# Inside of the Car class create a method that has 4 parameter in total (self,year,door,seats)\n",
    "    def printInfo(self, year, door, seats):\n",
    "        self.year = year\n",
    "        self.door = door\n",
    "        self.seats = seats\n",
    "        \n",
    "        \n",
    "        print(f'This car is from {year} and is a {self.make} {self.model} and has {door} doors and {seats} seats.')\n",
    "# Output: This car is from 2019 and is a Ford Expolorer and has 4 doors and 5 seats\n",
    "my_car = Car(\"Suzuki\", \"Grand Vitara\")\n",
    "my_car.printInfo('1999', 4, 6)\n",
    "print(my_car.__dict__)\n",
    "\n",
    "my_car2 = Car(\"Tesla\", \"Cyber Truck\")\n",
    "# my_car2.printInfo('2020', 4, 6)\n",
    "print(my_car2.__dict__)\n",
    "\n",
    "# class Car():\n",
    "#     def __init__(make, model):\n",
    "#         self.year = year\n",
    "#         self.door = door\n",
    "#         self.seats = seats\n",
    "#         self.make = make\n",
    "#         self.model = model        \n",
    "        \n",
    "#     def make_model(self):\n",
    "#         return f'{self.make} {self.model}'\n",
    "        \n",
    "\n",
    "# car1 = Car('nissan', 'altima')\n",
    "# print(car1(make_model))\n"
   ]
  },
  {
   "cell_type": "markdown",
   "metadata": {},
   "source": [
    "## Inheritance <br>\n",
    "<p>You can create a child-parent relationship between two classes by using inheritance. What this allows you to do is have overriding methods, but also inherit traits from the parent class. Think of it as an actual parent and child, the child will inherit the parent's genes, as will the classes in OOP</p>"
   ]
  },
  {
   "cell_type": "markdown",
   "metadata": {},
   "source": [
    "##### Syntax for Inheriting from a Parent Class"
   ]
  },
  {
   "cell_type": "code",
   "execution_count": 100,
   "metadata": {},
   "outputs": [
    {
     "name": "stdout",
     "output_type": "stream",
     "text": [
      "Make some generic noise\n",
      "woof\n",
      "meow\n",
      "4\n",
      "Buddy\n"
     ]
    }
   ],
   "source": [
    "# Creation of Parent Class\n",
    "class Animal():\n",
    "    def __init__(self, name='No name'):   # __init__ method\n",
    "        self.legs = 4\n",
    "        self.name = name\n",
    "        self.species = 'No assigned species'\n",
    "        \n",
    "    def makeSound(self):   # this is a METHOD\n",
    "        print('Make some generic noise')\n",
    "\n",
    "# Creation of the Child class\n",
    "class Dog(Animal):  # dog class inherits from Animal class\n",
    "    # constructor method to oeverride inherited class\n",
    "    def __init__(self, name, species):\n",
    "        Animal.__init__(self, name)  # REFERENCE PARENT INIT TO GET ALL THE ATTRIBUTES (i.e. the legs, name, and species)\n",
    "        self.name = name\n",
    "        self.species = species\n",
    "    \n",
    "    def makeSound(self):  #method; this overlaps with the paren makeSound\n",
    "        print(\"woof\")\n",
    "        \n",
    "    def fetch(self):   #method\n",
    "        print(\"go fetch\")\n",
    "    \n",
    "    \n",
    "class Cat(Animal):\n",
    "        \n",
    "    def makeSound(self):\n",
    "        print(\"meow\")\n",
    "    \n",
    "random_animal = Animal()\n",
    "my_dog = Dog('Buddy', 'canine')\n",
    "my_cat = Cat()\n",
    "\n",
    "\n",
    "random_animal.makeSound()\n",
    "my_dog.makeSound()\n",
    "my_cat.makeSound()\n",
    "print(my_dog.legs)\n",
    "print(my_dog.name)\n",
    "\n"
   ]
  },
  {
   "cell_type": "markdown",
   "metadata": {},
   "source": [
    "##### The \\__init\\__() Method for a Child Class - super()"
   ]
  },
  {
   "cell_type": "code",
   "execution_count": 107,
   "metadata": {
    "scrolled": true
   },
   "outputs": [
    {
     "name": "stdout",
     "output_type": "stream",
     "text": [
      "some generic sound\n",
      "Bark\n",
      "sigh\n",
      "some generic sound\n",
      "Bark\n",
      "sigh\n"
     ]
    }
   ],
   "source": [
    "class Animal():  # Animal is not inheriting anything, so we leave the () blank\n",
    "    def __init__(self, name, species, legs = 4):\n",
    "        self.name = name\n",
    "        self.species = species\n",
    "        self.legs = legs\n",
    "        \n",
    "    def makeSound(self):\n",
    "        self.sound = \"Hello!\"\n",
    "        print(\"some generic sound\")\n",
    "    def breathe(self):\n",
    "        print(\"sigh\")\n",
    "        \n",
    "        \n",
    "class Dog(Animal):\n",
    "    def __init__(self, name, species, color, legs = 4):  #same parameters as the parent\n",
    "        # will execute the parent (Animal) class's __init__ method\n",
    "        super().__init__(name, species, legs)   # doesn't need (self) because it is grabbing all of the inherited things (in this case, from Animal class)\n",
    "        self.color = color\n",
    "        \n",
    "    def makeSound(self):\n",
    "        # execute the parent (Animal) class's makeSound method\n",
    "        Animal.makeSound(self)\n",
    "        # Continue on with own (Dog) makeSound method\n",
    "        print(\"Bark\")\n",
    "\n",
    "        \n",
    "class Mutt(Dog):\n",
    "    def __init__(self, name, species, color, legs = 4):\n",
    "        super().__init__(name, species, color, legs)  # taking in the (Dog) clas\n",
    "        \n",
    "        \n",
    "# vv object       vv instance\n",
    "my_wolf = Dog(\"wolfie\", \"Wolf Species\", \"grey\")\n",
    "my_wolf.makeSound()\n",
    "my_wolf.breathe()\n",
    "\n",
    "new_dog = Mutt(\"Bob\", \"dog\", \"brown\")\n",
    "new_dog.makeSound()\n",
    "new_dog.breathe()  # new_dog looks at Mutt for breathe method, doesn't find it, so it looks at (Dog) since it is inheriting. Also doesn't find it, but then it looks at (Animal), which (Dog) is looking at, and finds the breathe method\n",
    "\n"
   ]
  },
  {
   "cell_type": "markdown",
   "metadata": {},
   "source": [
    "##### Defining Attributes and Methods for the Child Class"
   ]
  },
  {
   "cell_type": "code",
   "execution_count": null,
   "metadata": {},
   "outputs": [],
   "source": [
    "# See Above\n",
    "\n",
    "# class Dog(Animal):\n",
    "#     def __init__(self, name, species, color, legs = 4):  #same parameters as the parent\n",
    "#         # will execute the parent (Animal) class's __init__ method\n",
    "        super().__init__(name, species, legs)   # doesn't need (self) because it is grabbing all of the inherited things (in this case, from Animal class)\n",
    "#         self.color = color"
   ]
  },
  {
   "cell_type": "markdown",
   "metadata": {},
   "source": [
    "##### Method Overriding"
   ]
  },
  {
   "cell_type": "code",
   "execution_count": null,
   "metadata": {},
   "outputs": [],
   "source": [
    "# # See Above\n",
    "\n",
    "# Override the makeSound method in the parent (Animal) class, with the makeSound method in the child class (Dog)"
   ]
  },
  {
   "cell_type": "markdown",
   "metadata": {},
   "source": [
    "## Classes as Attributes <br>\n",
    "<p>Classes can also be used as attributes within another class. This is useful in situations where you need to keep variables locally stored, instead of globally stored.</p>"
   ]
  },
  {
   "cell_type": "code",
   "execution_count": 120,
   "metadata": {},
   "outputs": [
    {
     "name": "stdout",
     "output_type": "stream",
     "text": [
      "2021 Tesla Cyber Truck <__main__.Battery object at 0x000001A81DBA04C0>\n",
      "20\n",
      "20\n",
      "25\n",
      "['', '']\n",
      "['koki', '']\n"
     ]
    }
   ],
   "source": [
    "class Battery():\n",
    "    def __init__(self, cells):\n",
    "        self.volts = 7.8\n",
    "        self.cells = cells\n",
    "    def increaseCells(self):\n",
    "        self.cells += 5  # grabbing old values of cells, and increasing it by 5\n",
    "        \n",
    "        \n",
    "class Car():\n",
    "    def __init__(self, year, make, model, battery):\n",
    "            self.year = year\n",
    "            self.make = make\n",
    "            self.model = model\n",
    "            self.battery = battery\n",
    "            self.seats = ['','']\n",
    "            \n",
    "    def printInfo(self):  #not going to run anything, just want to print\n",
    "        print(self.year, self.make, self.model, self.battery)\n",
    "        \n",
    "\n",
    "        \n",
    "batt_1 = Battery(20)  # 20 cells\n",
    "\n",
    "tesla = Car(2021, \"Tesla\", \"Cyber Truck\", batt_1)  # bringing in the battery through batt_1\n",
    "tesla.printInfo()\n",
    "\n",
    "print(batt_1.cells)\n",
    "print(tesla.battery.cells)\n",
    "\n",
    "tesla.battery.increaseCells()\n",
    "print(tesla.battery.cells)\n",
    "\n",
    "print(tesla.seats)\n",
    "tesla.seats[0] = \"koki\"\n",
    "print(tesla.seats)"
   ]
  },
  {
   "cell_type": "markdown",
   "metadata": {},
   "source": [
    "# Exercises"
   ]
  },
  {
   "cell_type": "markdown",
   "metadata": {},
   "source": [
    "### Exercise 1 - Turn the shopping cart program from yesterday into an object-oriented program"
   ]
  },
  {
   "cell_type": "code",
   "execution_count": 171,
   "metadata": {},
   "outputs": [
    {
     "ename": "NameError",
     "evalue": "name 'add' is not defined",
     "output_type": "error",
     "traceback": [
      "\u001b[1;31m---------------------------------------------------------------------------\u001b[0m",
      "\u001b[1;31mNameError\u001b[0m                                 Traceback (most recent call last)",
      "\u001b[1;32m<ipython-input-171-0bc3878e7658>\u001b[0m in \u001b[0;36m<module>\u001b[1;34m\u001b[0m\n\u001b[0;32m     30\u001b[0m \u001b[1;33m\u001b[0m\u001b[0m\n\u001b[0;32m     31\u001b[0m \u001b[1;33m\u001b[0m\u001b[0m\n\u001b[1;32m---> 32\u001b[1;33m \u001b[0mgrocery2\u001b[0m \u001b[1;33m=\u001b[0m \u001b[0mCart\u001b[0m\u001b[1;33m(\u001b[0m\u001b[1;34m\"kiwi\"\u001b[0m\u001b[1;33m)\u001b[0m\u001b[1;33m\u001b[0m\u001b[1;33m\u001b[0m\u001b[0m\n\u001b[0m\u001b[0;32m     33\u001b[0m \u001b[0mprint\u001b[0m\u001b[1;33m(\u001b[0m\u001b[0mgrocery2\u001b[0m\u001b[1;33m.\u001b[0m\u001b[0madd\u001b[0m\u001b[1;33m)\u001b[0m\u001b[1;33m\u001b[0m\u001b[1;33m\u001b[0m\u001b[0m\n\u001b[0;32m     34\u001b[0m \u001b[0mCart\u001b[0m\u001b[1;33m.\u001b[0m\u001b[0mmy_cart\u001b[0m\u001b[1;33m.\u001b[0m\u001b[0mappend\u001b[0m\u001b[1;33m(\u001b[0m\u001b[0mgrocery2\u001b[0m\u001b[1;33m.\u001b[0m\u001b[0madd\u001b[0m\u001b[1;33m)\u001b[0m\u001b[1;33m\u001b[0m\u001b[1;33m\u001b[0m\u001b[0m\n",
      "\u001b[1;32m<ipython-input-171-0bc3878e7658>\u001b[0m in \u001b[0;36m__init__\u001b[1;34m(self, item)\u001b[0m\n\u001b[0;32m      6\u001b[0m     \u001b[1;32mdef\u001b[0m \u001b[0m__init__\u001b[0m\u001b[1;33m(\u001b[0m\u001b[0mself\u001b[0m\u001b[1;33m,\u001b[0m \u001b[0mitem\u001b[0m\u001b[1;33m)\u001b[0m\u001b[1;33m:\u001b[0m\u001b[1;33m\u001b[0m\u001b[1;33m\u001b[0m\u001b[0m\n\u001b[0;32m      7\u001b[0m         \u001b[0mself\u001b[0m\u001b[1;33m.\u001b[0m\u001b[0mitem\u001b[0m \u001b[1;33m=\u001b[0m \u001b[0mitem\u001b[0m\u001b[1;33m\u001b[0m\u001b[1;33m\u001b[0m\u001b[0m\n\u001b[1;32m----> 8\u001b[1;33m         \u001b[0mself\u001b[0m\u001b[1;33m.\u001b[0m\u001b[0madd\u001b[0m \u001b[1;33m=\u001b[0m \u001b[0madd\u001b[0m\u001b[1;33m(\u001b[0m\u001b[0minput\u001b[0m\u001b[1;33m(\u001b[0m\u001b[1;34m'Enter an item: '\u001b[0m\u001b[1;33m)\u001b[0m\u001b[1;33m)\u001b[0m\u001b[1;33m\u001b[0m\u001b[1;33m\u001b[0m\u001b[0m\n\u001b[0m\u001b[0;32m      9\u001b[0m \u001b[1;31m# #         self.show = print('Here is your inventory: ')\u001b[0m\u001b[1;33m\u001b[0m\u001b[1;33m\u001b[0m\u001b[1;33m\u001b[0m\u001b[0m\n\u001b[0;32m     10\u001b[0m \u001b[1;31m# #         self.remove = input('Remove an item')\u001b[0m\u001b[1;33m\u001b[0m\u001b[1;33m\u001b[0m\u001b[1;33m\u001b[0m\u001b[0m\n",
      "\u001b[1;31mNameError\u001b[0m: name 'add' is not defined"
     ]
    }
   ],
   "source": [
    "# # Create a class called cart that retains items and has methods to add, remove, and show\n",
    "# # no inheritance\n",
    "\n",
    "# class Cart():\n",
    "    \n",
    "#     def __init__(self, item):\n",
    "#         self.item = item\n",
    "# #         self.add = add(input('Enter an item: '))\n",
    "# #         self.show = print('Here is your inventory: ')\n",
    "# #         self.remove = input('Remove an item')\n",
    "# #         self.show = show\n",
    "\n",
    "   \n",
    "#     def itemAdd(self, item):\n",
    "#         self.item = item_name(input(\"Enter an item: \"))\n",
    "        \n",
    "\n",
    "    \n",
    "# #     def itemShow(self):\n",
    "# #         print(f'You have {self.show} in your list')\n",
    "\n",
    "# my_cart = []\n",
    "\n",
    "\n",
    "# grocery = Cart(grocery.itemAdd)\n",
    "# print(grocery.itemAdd)\n",
    "# # Cart.my_cart.append(grocery.add)\n",
    "# # print(Cart.my_cart)\n",
    "\n",
    "\n",
    "\n",
    "# # grocery2 = Cart(\"kiwi\")\n",
    "# # print(grocery2.add)\n",
    "# # Cart.my_cart.append(grocery2.add)\n",
    "# # print(Cart.my_cart)\n",
    "\n"
   ]
  },
  {
   "cell_type": "code",
   "execution_count": 167,
   "metadata": {},
   "outputs": [
    {
     "name": "stdout",
     "output_type": "stream",
     "text": [
      "Want to add something? asd\n"
     ]
    },
    {
     "ename": "AttributeError",
     "evalue": "'str' object has no attribute 'append'",
     "output_type": "error",
     "traceback": [
      "\u001b[1;31m---------------------------------------------------------------------------\u001b[0m",
      "\u001b[1;31mAttributeError\u001b[0m                            Traceback (most recent call last)",
      "\u001b[1;32m<ipython-input-167-eb5c884ec19b>\u001b[0m in \u001b[0;36m<module>\u001b[1;34m\u001b[0m\n\u001b[0;32m     15\u001b[0m \u001b[1;33m\u001b[0m\u001b[0m\n\u001b[0;32m     16\u001b[0m \u001b[0mshopping\u001b[0m \u001b[1;33m=\u001b[0m \u001b[0mShop\u001b[0m\u001b[1;33m(\u001b[0m\u001b[1;34m\"\"\u001b[0m\u001b[1;33m)\u001b[0m\u001b[1;33m\u001b[0m\u001b[1;33m\u001b[0m\u001b[0m\n\u001b[1;32m---> 17\u001b[1;33m \u001b[0mshopping\u001b[0m\u001b[1;33m.\u001b[0m\u001b[0maddItem\u001b[0m\u001b[1;33m(\u001b[0m\u001b[1;33m)\u001b[0m\u001b[1;33m\u001b[0m\u001b[1;33m\u001b[0m\u001b[0m\n\u001b[0m\u001b[0;32m     18\u001b[0m \u001b[0mshopping\u001b[0m\u001b[1;33m.\u001b[0m\u001b[0mshowItem\u001b[0m\u001b[1;33m(\u001b[0m\u001b[1;33m)\u001b[0m\u001b[1;33m\u001b[0m\u001b[1;33m\u001b[0m\u001b[0m\n",
      "\u001b[1;32m<ipython-input-167-eb5c884ec19b>\u001b[0m in \u001b[0;36maddItem\u001b[1;34m(self)\u001b[0m\n\u001b[0;32m      5\u001b[0m \u001b[1;33m\u001b[0m\u001b[0m\n\u001b[0;32m      6\u001b[0m     \u001b[1;32mdef\u001b[0m \u001b[0maddItem\u001b[0m\u001b[1;33m(\u001b[0m\u001b[0mself\u001b[0m\u001b[1;33m)\u001b[0m\u001b[1;33m:\u001b[0m\u001b[1;33m\u001b[0m\u001b[1;33m\u001b[0m\u001b[0m\n\u001b[1;32m----> 7\u001b[1;33m         \u001b[0mself\u001b[0m\u001b[1;33m.\u001b[0m\u001b[0mitemname\u001b[0m \u001b[1;33m=\u001b[0m \u001b[0minput\u001b[0m\u001b[1;33m(\u001b[0m\u001b[1;34m\"Want to add something? \"\u001b[0m\u001b[1;33m)\u001b[0m\u001b[1;33m.\u001b[0m\u001b[0mappend\u001b[0m\u001b[1;33m(\u001b[0m\u001b[0mShop\u001b[0m\u001b[1;33m.\u001b[0m\u001b[0mmyshop\u001b[0m\u001b[1;33m)\u001b[0m\u001b[1;33m\u001b[0m\u001b[1;33m\u001b[0m\u001b[0m\n\u001b[0m\u001b[0;32m      8\u001b[0m         \u001b[0mprint\u001b[0m\u001b[1;33m(\u001b[0m\u001b[0mShop\u001b[0m\u001b[1;33m.\u001b[0m\u001b[0mmyshop\u001b[0m\u001b[1;33m)\u001b[0m\u001b[1;33m\u001b[0m\u001b[1;33m\u001b[0m\u001b[0m\n\u001b[0;32m      9\u001b[0m \u001b[1;33m\u001b[0m\u001b[0m\n",
      "\u001b[1;31mAttributeError\u001b[0m: 'str' object has no attribute 'append'"
     ]
    }
   ],
   "source": [
    "class Shop():\n",
    "    myshop=[]\n",
    "    def __init__(self, itemname):\n",
    "        self.itemname = itemname\n",
    "    \n",
    "    def addItem(self):\n",
    "        self.itemname = input(\"Want to add something? \").append(Shop.myshop)\n",
    "        print(Shop.myshop)\n",
    "    \n",
    "    def showItem(self):\n",
    "        print(self.itemname)\n",
    "    \n",
    "    def remvItem(self):\n",
    "        del Shop.myshop[addItem]\n",
    "    \n",
    "shopping = Shop(\"\")\n",
    "shopping.addItem()\n",
    "shopping.showItem()"
   ]
  },
  {
   "cell_type": "markdown",
   "metadata": {},
   "source": [
    "### Exercise 2 - Write a Python class which has two methods get_String and print_String. get_String accept a string from the user and print_String print the string in upper case"
   ]
  },
  {
   "cell_type": "code",
   "execution_count": null,
   "metadata": {},
   "outputs": [],
   "source": [
    "class String():\n",
    "    def __init__(self):\n",
    "        self.string = \"\"\n",
    "    def get_String(self):\n",
    "        self.string = input(\"say something\")\n",
    "    def print_String(self):\n",
    "        print(self.string.upper())\n",
    "string = String()\n",
    "string.get_String()\n",
    "string.print_String()"
   ]
  }
 ],
 "metadata": {
  "kernelspec": {
   "display_name": "Python 3",
   "language": "python",
   "name": "python3"
  },
  "language_info": {
   "codemirror_mode": {
    "name": "ipython",
    "version": 3
   },
   "file_extension": ".py",
   "mimetype": "text/x-python",
   "name": "python",
   "nbconvert_exporter": "python",
   "pygments_lexer": "ipython3",
   "version": "3.8.8"
  }
 },
 "nbformat": 4,
 "nbformat_minor": 2
}
